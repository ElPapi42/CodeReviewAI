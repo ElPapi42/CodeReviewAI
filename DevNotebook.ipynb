{
  "nbformat": 4,
  "nbformat_minor": 0,
  "metadata": {
    "colab": {
      "name": "Untitled2.ipynb",
      "provenance": [],
      "authorship_tag": "ABX9TyNBTS95rm29EYjRyB/AyMWE",
      "include_colab_link": true
    },
    "kernelspec": {
      "name": "python3",
      "display_name": "Python 3"
    }
  },
  "cells": [
    {
      "cell_type": "markdown",
      "metadata": {
        "id": "view-in-github",
        "colab_type": "text"
      },
      "source": [
        "<a href=\"https://colab.research.google.com/github/ElPapi42/CodeReviewAI/blob/master/DevNotebook.ipynb\" target=\"_parent\"><img src=\"https://colab.research.google.com/assets/colab-badge.svg\" alt=\"Open In Colab\"/></a>"
      ]
    },
    {
      "cell_type": "code",
      "metadata": {
        "id": "auZIL1nhSNcf",
        "colab_type": "code",
        "colab": {}
      },
      "source": [
        "https://s3.amazonaws.com/code-search-net/CodeSearchNet/v2/python.zip"
      ],
      "execution_count": 0,
      "outputs": []
    }
  ]
}